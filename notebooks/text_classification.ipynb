{
 "cells": [
  {
   "cell_type": "code",
   "execution_count": 2,
   "metadata": {
    "colab": {
     "base_uri": "https://localhost:8080/"
    },
    "id": "6G4eEwR9HF7I",
    "outputId": "4f0e5fed-a6ae-4ab2-f207-5c594299a3f7",
    "scrolled": true
   },
   "outputs": [
    {
     "name": "stderr",
     "output_type": "stream",
     "text": [
      "[nltk_data] Downloading package stopwords to\n",
      "[nltk_data]     C:\\Users\\user\\AppData\\Roaming\\nltk_data...\n",
      "[nltk_data]   Package stopwords is already up-to-date!\n"
     ]
    },
    {
     "data": {
      "text/plain": [
       "True"
      ]
     },
     "execution_count": 2,
     "metadata": {},
     "output_type": "execute_result"
    }
   ],
   "source": [
    "import pandas as pd\n",
    "import numpy as np\n",
    "import nltk\n",
    "import random\n",
    "import seaborn as sns\n",
    "import matplotlib.pyplot as plt\n",
    "import torch\n",
    "from nltk.corpus import stopwords\n",
    "from nltk.stem import PorterStemmer\n",
    "from nltk.tokenize import word_tokenize\n",
    "from sklearn.model_selection import train_test_split\n",
    "from sklearn.feature_extraction.text import TfidfVectorizer\n",
    "from sklearn.decomposition import TruncatedSVD\n",
    "from sklearn.model_selection import StratifiedKFold\n",
    "from sklearn.metrics import accuracy_score, f1_score, precision_score, recall_score, roc_curve, precision_recall_curve\n",
    "from sklearn.metrics import classification_report\n",
    "from catboost import CatBoostClassifier\n",
    "import re\n",
    "import joblib\n",
    "import warnings\n",
    "\n",
    "warnings.filterwarnings(\"ignore\")\n",
    "nltk.download('stopwords')"
   ]
  },
  {
   "cell_type": "code",
   "execution_count": 3,
   "metadata": {
    "colab": {
     "base_uri": "https://localhost:8080/",
     "height": 339
    },
    "id": "mxEFmAEoM3rz",
    "outputId": "81518c50-b793-423a-f8e1-7231abb6f631"
   },
   "outputs": [
    {
     "data": {
      "text/plain": [
       "1064211"
      ]
     },
     "execution_count": 3,
     "metadata": {},
     "output_type": "execute_result"
    }
   ],
   "source": [
    "df = pd.read_csv('data.csv', on_bad_lines='skip')\n",
    "df = df[['review_type', 'review_content']].rename(columns={'review_type': 'label', 'review_content': 'text'})\n",
    "df['label'] = df['label'].map({'Fresh': 0, 'Rotten': 1})\n",
    "df = df.dropna()\n",
    "len(df)"
   ]
  },
  {
   "cell_type": "code",
   "execution_count": 4,
   "metadata": {
    "id": "xrn-Ml5jI2BK"
   },
   "outputs": [],
   "source": [
    "def preprocess_text(text):\n",
    "    text = text.lower()\n",
    "    text = re.sub(r'[^\\w\\s]', '', text)\n",
    "    text = re.sub(r'\\d+', '', text)\n",
    "    words = text.split()\n",
    "    stop_words = set(stopwords.words('english'))\n",
    "    words = [word for word in words if word not in stop_words]\n",
    "    stemmer = PorterStemmer()\n",
    "    words = [stemmer.stem(word) for word in words]\n",
    "    return ' '.join(words)"
   ]
  },
  {
   "cell_type": "code",
   "execution_count": 5,
   "metadata": {
    "id": "4Ux6Oy2FNN8a"
   },
   "outputs": [],
   "source": [
    "X_train, X_test, y_train, y_test = train_test_split(df['text'], df['label'], test_size=0.1, random_state=42)\n",
    "\n",
    "X_train_processed = X_train.apply(preprocess_text)\n",
    "X_test_processed = X_test.apply(preprocess_text)"
   ]
  },
  {
   "cell_type": "code",
   "execution_count": 6,
   "metadata": {
    "id": "uqs9BoBKb0vI"
   },
   "outputs": [],
   "source": [
    "vectorizer = TfidfVectorizer(max_features=20000, norm='l2', ngram_range=(1,3))\n",
    "X_train_tfidf = vectorizer.fit_transform(X_train_processed)\n",
    "X_test_tfidf = vectorizer.transform(X_test_processed)"
   ]
  },
  {
   "cell_type": "code",
   "execution_count": 7,
   "metadata": {
    "id": "AeqDUMzvOmSJ"
   },
   "outputs": [],
   "source": [
    "svd = TruncatedSVD(n_components=300, random_state=42)\n",
    "\n",
    "X_train_svd = svd.fit_transform(X_train_tfidf)\n",
    "X_test_svd = svd.transform(X_test_tfidf)"
   ]
  },
  {
   "cell_type": "code",
   "execution_count": 8,
   "metadata": {
    "colab": {
     "base_uri": "https://localhost:8080/"
    },
    "id": "a-9w9poASech",
    "outputId": "f3af3b99-01fe-420d-d724-b61f90766bb7"
   },
   "outputs": [
    {
     "name": "stdout",
     "output_type": "stream",
     "text": [
      "\n",
      " Fold 1\n",
      "0:\tlearn: 0.6036553\ttest: 0.6036396\tbest: 0.6036396 (0)\ttotal: 110ms\tremaining: 27m 33s\n",
      "500:\tlearn: 0.6974741\ttest: 0.6946208\tbest: 0.6946208 (500)\ttotal: 26.8s\tremaining: 12m 54s\n",
      "1000:\tlearn: 0.7108289\ttest: 0.7065809\tbest: 0.7066750 (999)\ttotal: 52.5s\tremaining: 12m 14s\n",
      "1500:\tlearn: 0.7180395\ttest: 0.7121425\tbest: 0.7122865 (1491)\ttotal: 1m 17s\tremaining: 11m 39s\n",
      "2000:\tlearn: 0.7233873\ttest: 0.7156126\tbest: 0.7156976 (1984)\ttotal: 1m 42s\tremaining: 11m 8s\n",
      "2500:\tlearn: 0.7279139\ttest: 0.7185190\tbest: 0.7185929 (2494)\ttotal: 2m 7s\tremaining: 10m 37s\n",
      "3000:\tlearn: 0.7321056\ttest: 0.7208074\tbest: 0.7208250 (2999)\ttotal: 2m 32s\tremaining: 10m 8s\n",
      "3500:\tlearn: 0.7358765\ttest: 0.7229535\tbest: 0.7229910 (3498)\ttotal: 2m 56s\tremaining: 9m 39s\n",
      "4000:\tlearn: 0.7390922\ttest: 0.7239508\tbest: 0.7240654 (3976)\ttotal: 3m 20s\tremaining: 9m 11s\n",
      "4500:\tlearn: 0.7421576\ttest: 0.7254969\tbest: 0.7254969 (4500)\ttotal: 3m 44s\tremaining: 8m 43s\n",
      "5000:\tlearn: 0.7450375\ttest: 0.7267996\tbest: 0.7269215 (4973)\ttotal: 4m 8s\tremaining: 8m 17s\n",
      "5500:\tlearn: 0.7479966\ttest: 0.7278290\tbest: 0.7278290 (5500)\ttotal: 4m 32s\tremaining: 7m 50s\n",
      "6000:\tlearn: 0.7506214\ttest: 0.7287486\tbest: 0.7288113 (5976)\ttotal: 4m 56s\tremaining: 7m 24s\n",
      "6500:\tlearn: 0.7534048\ttest: 0.7297717\tbest: 0.7298705 (6497)\ttotal: 5m 20s\tremaining: 6m 58s\n",
      "7000:\tlearn: 0.7560955\ttest: 0.7304071\tbest: 0.7304445 (6858)\ttotal: 5m 44s\tremaining: 6m 33s\n",
      "7500:\tlearn: 0.7586934\ttest: 0.7311416\tbest: 0.7311579 (7499)\ttotal: 6m 8s\tremaining: 6m 7s\n",
      "8000:\tlearn: 0.7613332\ttest: 0.7316781\tbest: 0.7316892 (7999)\ttotal: 6m 31s\tremaining: 5m 42s\n",
      "8500:\tlearn: 0.7637662\ttest: 0.7321458\tbest: 0.7323168 (8384)\ttotal: 6m 55s\tremaining: 5m 17s\n",
      "bestTest = 0.7323167915\n",
      "bestIteration = 8384\n",
      "Shrink model to first 8385 iterations.\n",
      "F1 score: 0.7366\n",
      "\n",
      " Fold 2\n",
      "0:\tlearn: 0.6193601\ttest: 0.6189420\tbest: 0.6189420 (0)\ttotal: 63.3ms\tremaining: 15m 49s\n",
      "500:\tlearn: 0.6981245\ttest: 0.6939260\tbest: 0.6939260 (500)\ttotal: 27.3s\tremaining: 13m 9s\n",
      "1000:\tlearn: 0.7112237\ttest: 0.7047010\tbest: 0.7048448 (984)\ttotal: 53.3s\tremaining: 12m 24s\n",
      "1500:\tlearn: 0.7184393\ttest: 0.7104764\tbest: 0.7104764 (1500)\ttotal: 1m 18s\tremaining: 11m 47s\n",
      "2000:\tlearn: 0.7240184\ttest: 0.7137815\tbest: 0.7138936 (1997)\ttotal: 1m 43s\tremaining: 11m 12s\n",
      "2500:\tlearn: 0.7283831\ttest: 0.7167537\tbest: 0.7168670 (2491)\ttotal: 2m 8s\tremaining: 10m 40s\n",
      "3000:\tlearn: 0.7326152\ttest: 0.7189583\tbest: 0.7190024 (2997)\ttotal: 2m 32s\tremaining: 10m 10s\n",
      "3500:\tlearn: 0.7361891\ttest: 0.7212293\tbest: 0.7212865 (3482)\ttotal: 2m 57s\tremaining: 9m 41s\n",
      "4000:\tlearn: 0.7395890\ttest: 0.7224438\tbest: 0.7225595 (3982)\ttotal: 3m 21s\tremaining: 9m 13s\n",
      "4500:\tlearn: 0.7430012\ttest: 0.7243830\tbest: 0.7244051 (4497)\ttotal: 3m 45s\tremaining: 8m 45s\n",
      "5000:\tlearn: 0.7458423\ttest: 0.7251642\tbest: 0.7253062 (4969)\ttotal: 4m 9s\tremaining: 8m 18s\n",
      "5500:\tlearn: 0.7489390\ttest: 0.7265549\tbest: 0.7266764 (5476)\ttotal: 4m 33s\tremaining: 7m 51s\n",
      "6000:\tlearn: 0.7517637\ttest: 0.7272928\tbest: 0.7274858 (5955)\ttotal: 4m 57s\tremaining: 7m 25s\n",
      "6500:\tlearn: 0.7542097\ttest: 0.7280974\tbest: 0.7282436 (6494)\ttotal: 5m 21s\tremaining: 7m\n",
      "7000:\tlearn: 0.7569362\ttest: 0.7288065\tbest: 0.7288678 (6952)\ttotal: 5m 45s\tremaining: 6m 34s\n",
      "7500:\tlearn: 0.7595726\ttest: 0.7295820\tbest: 0.7296204 (7475)\ttotal: 6m 8s\tremaining: 6m 8s\n",
      "8000:\tlearn: 0.7620083\ttest: 0.7304383\tbest: 0.7304416 (7999)\ttotal: 6m 32s\tremaining: 5m 43s\n",
      "8500:\tlearn: 0.7644588\ttest: 0.7310876\tbest: 0.7312805 (8467)\ttotal: 6m 56s\tremaining: 5m 18s\n",
      "9000:\tlearn: 0.7666685\ttest: 0.7316304\tbest: 0.7317232 (8865)\ttotal: 7m 20s\tremaining: 4m 53s\n",
      "9500:\tlearn: 0.7690197\ttest: 0.7320475\tbest: 0.7321530 (9341)\ttotal: 7m 44s\tremaining: 4m 28s\n",
      "bestTest = 0.7321529822\n",
      "bestIteration = 9341\n",
      "Shrink model to first 9342 iterations.\n",
      "F1 score: 0.7376\n",
      "\n",
      " Fold 3\n",
      "0:\tlearn: 0.6184383\ttest: 0.6176503\tbest: 0.6176503 (0)\ttotal: 155ms\tremaining: 38m 40s\n",
      "500:\tlearn: 0.6972787\ttest: 0.6957820\tbest: 0.6957820 (500)\ttotal: 27.2s\tremaining: 13m 7s\n",
      "1000:\tlearn: 0.7105598\ttest: 0.7062640\tbest: 0.7063742 (998)\ttotal: 53s\tremaining: 12m 20s\n",
      "1500:\tlearn: 0.7181848\ttest: 0.7116431\tbest: 0.7116494 (1499)\ttotal: 1m 18s\tremaining: 11m 44s\n",
      "2000:\tlearn: 0.7238152\ttest: 0.7155273\tbest: 0.7155273 (2000)\ttotal: 1m 43s\tremaining: 11m 10s\n",
      "2500:\tlearn: 0.7285463\ttest: 0.7178151\tbest: 0.7178684 (2490)\ttotal: 2m 7s\tremaining: 10m 38s\n",
      "3000:\tlearn: 0.7323801\ttest: 0.7200463\tbest: 0.7200708 (2999)\ttotal: 2m 32s\tremaining: 10m 9s\n",
      "3500:\tlearn: 0.7359764\ttest: 0.7215742\tbest: 0.7215931 (3496)\ttotal: 2m 56s\tremaining: 9m 40s\n",
      "4000:\tlearn: 0.7395027\ttest: 0.7229860\tbest: 0.7231006 (3968)\ttotal: 3m 20s\tremaining: 9m 11s\n",
      "4500:\tlearn: 0.7427856\ttest: 0.7245513\tbest: 0.7245513 (4500)\ttotal: 3m 44s\tremaining: 8m 44s\n",
      "5000:\tlearn: 0.7459190\ttest: 0.7257960\tbest: 0.7258305 (4998)\ttotal: 4m 8s\tremaining: 8m 17s\n",
      "5500:\tlearn: 0.7487630\ttest: 0.7266709\tbest: 0.7267081 (5496)\ttotal: 4m 32s\tremaining: 7m 51s\n",
      "6000:\tlearn: 0.7514598\ttest: 0.7276008\tbest: 0.7276051 (5997)\ttotal: 4m 56s\tremaining: 7m 25s\n",
      "6500:\tlearn: 0.7542214\ttest: 0.7284860\tbest: 0.7285135 (6499)\ttotal: 5m 20s\tremaining: 6m 59s\n",
      "7000:\tlearn: 0.7567680\ttest: 0.7289866\tbest: 0.7290507 (6922)\ttotal: 5m 44s\tremaining: 6m 33s\n",
      "7500:\tlearn: 0.7593241\ttest: 0.7300159\tbest: 0.7300269 (7499)\ttotal: 6m 8s\tremaining: 6m 8s\n",
      "8000:\tlearn: 0.7619533\ttest: 0.7308912\tbest: 0.7309194 (7992)\ttotal: 6m 32s\tremaining: 5m 43s\n",
      "8500:\tlearn: 0.7642690\ttest: 0.7314749\tbest: 0.7315279 (8495)\ttotal: 6m 56s\tremaining: 5m 18s\n",
      "9000:\tlearn: 0.7666331\ttest: 0.7322941\tbest: 0.7323126 (8969)\ttotal: 7m 20s\tremaining: 4m 53s\n",
      "9500:\tlearn: 0.7691073\ttest: 0.7329695\tbest: 0.7331121 (9486)\ttotal: 7m 43s\tremaining: 4m 28s\n",
      "10000:\tlearn: 0.7714012\ttest: 0.7336484\tbest: 0.7339109 (9945)\ttotal: 8m 7s\tremaining: 4m 3s\n",
      "bestTest = 0.7339108844\n",
      "bestIteration = 9945\n",
      "Shrink model to first 9946 iterations.\n",
      "F1 score: 0.7379\n",
      "\n",
      "Average F1 on cross-validation: 0.7373843166123603\n",
      "Best F1 score: 0.7379\n"
     ]
    }
   ],
   "source": [
    "params = {\n",
    "    'iterations': 15000,\n",
    "    'learning_rate': 0.03,\n",
    "    'depth': 5,\n",
    "    'early_stopping_rounds': 200,\n",
    "    'od_type':'Iter',\n",
    "    'eval_metric': 'F1',\n",
    "    'verbose': 500,\n",
    "    'auto_class_weights': 'Balanced',\n",
    "    'task_type': 'GPU' if torch.cuda.is_available() else 'CPU',\n",
    "    'random_seed': 42\n",
    "}\n",
    "\n",
    "kf = StratifiedKFold(n_splits=3, shuffle=True, random_state=42)\n",
    "f1_scores = []\n",
    "best_f1 = -np.inf  \n",
    "best_model = None\n",
    "\n",
    "for fold, (train_idx, val_idx) in enumerate(kf.split(X_train_svd, y_train)):\n",
    "    print(f\"\\n Fold {fold+1}\")\n",
    "    X_tr, X_val = X_train_svd[train_idx], X_train_svd[val_idx]\n",
    "    y_tr, y_val = y_train.to_numpy()[train_idx], y_train.to_numpy()[val_idx]\n",
    "    \n",
    "    model = CatBoostClassifier(**params)\n",
    "    model.fit(X_tr, y_tr, eval_set=(X_val, y_val), use_best_model=True)\n",
    "    \n",
    "    y_pred = model.predict(X_val)\n",
    "    f1 = f1_score(y_val, y_pred, average='weighted')\n",
    "    \n",
    "    f1_scores.append(f1)\n",
    "    print(f'F1 score: {f1:.4f}')\n",
    "\n",
    "    if f1 > best_f1:\n",
    "        best_f1 = f1\n",
    "        best_model = model\n",
    "        \n",
    "print('\\nAverage F1 on cross-validation:', np.mean(f1_scores))\n",
    "print(f'Best F1 score: {best_f1:.4f}')"
   ]
  },
  {
   "cell_type": "code",
   "execution_count": 9,
   "metadata": {
    "id": "qBgbwSAgWR_g"
   },
   "outputs": [],
   "source": [
    "y_pred = best_model.predict(X_test_svd)\n",
    "y_probs = best_model.predict_proba(X_test_svd)[:, 1]"
   ]
  },
  {
   "cell_type": "code",
   "execution_count": 10,
   "metadata": {
    "id": "4pMzUd1SDcmQ"
   },
   "outputs": [],
   "source": [
    "fpr, tpr, thresholds_roc = roc_curve(y_test, y_probs)\n",
    "youden_idx = np.argmax(tpr - fpr)\n",
    "optimal_threshold_roc = thresholds_roc[youden_idx]"
   ]
  },
  {
   "cell_type": "code",
   "execution_count": 11,
   "metadata": {
    "id": "sTRbJyZODqv6"
   },
   "outputs": [],
   "source": [
    "precision, recall, thresholds_pr = precision_recall_curve(y_test, y_probs)\n",
    "f1_scores = 2 * (precision[:-1] * recall[:-1]) / (precision[:-1] + recall[:-1] + 1e-9)\n",
    "optimal_idx = np.argmax(f1_scores)\n",
    "optimal_threshold_pr = thresholds_pr[optimal_idx]"
   ]
  },
  {
   "cell_type": "code",
   "execution_count": 12,
   "metadata": {
    "colab": {
     "base_uri": "https://localhost:8080/"
    },
    "id": "iTMm30aZEFCh",
    "outputId": "4b68c3f4-ede7-4bc0-ccb2-eaf144bae703"
   },
   "outputs": [
    {
     "name": "stdout",
     "output_type": "stream",
     "text": [
      "Optimal threshold Youdens J: 0.485\n",
      "Optimal threshold F1-score: 0.454\n"
     ]
    }
   ],
   "source": [
    "print(f'Optimal threshold Youdens J: {optimal_threshold_roc:.3f}')\n",
    "print(f'Optimal threshold F1-score: {optimal_threshold_pr:.3f}')"
   ]
  },
  {
   "cell_type": "code",
   "execution_count": 13,
   "metadata": {
    "colab": {
     "base_uri": "https://localhost:8080/",
     "height": 506
    },
    "id": "0joRpySTEFjV",
    "outputId": "f0281a22-9f47-4333-cf30-6c2d086f7ed3"
   },
   "outputs": [
    {
     "data": {
      "image/png": "[encoded data removed]",
      "text/plain": [
       "<Figure size 1500x500 with 2 Axes>"
      ]
     },
     "metadata": {},
     "output_type": "display_data"
    }
   ],
   "source": [
    "plt.figure(figsize=(15, 5))\n",
    "\n",
    "plt.subplot(1, 2, 1)\n",
    "plt.plot(fpr, tpr, label='ROC curve')\n",
    "plt.scatter(fpr[youden_idx], tpr[youden_idx], color='red',\n",
    "            label=f'Optimal threshold (={optimal_threshold_roc:.3f})')\n",
    "plt.xlabel('False Positive Rate')\n",
    "plt.ylabel('True Positive Rate')\n",
    "plt.title('ROC Curve')\n",
    "plt.legend()\n",
    "\n",
    "plt.subplot(1, 2, 2)\n",
    "plt.plot(recall[:-1], precision[:-1], label='Precision-Recall curve')\n",
    "plt.scatter(recall[optimal_idx], precision[optimal_idx], color='red',\n",
    "            label=f'Optimal threshold (={optimal_threshold_pr:.3f})')\n",
    "plt.xlabel('Recall')\n",
    "plt.ylabel('Precision')\n",
    "plt.title('Precision-Recall Curve')\n",
    "plt.legend()\n",
    "\n",
    "plt.tight_layout()\n",
    "plt.show()"
   ]
  },
  {
   "cell_type": "code",
   "execution_count": 14,
   "metadata": {
    "id": "qarVTk_sEVlp"
   },
   "outputs": [],
   "source": [
    "y_pred_roc = (y_probs >= optimal_threshold_roc).astype(int)\n",
    "y_pred_pr = (y_probs >= optimal_threshold_pr).astype(int)"
   ]
  },
  {
   "cell_type": "code",
   "execution_count": 15,
   "metadata": {
    "colab": {
     "base_uri": "https://localhost:8080/"
    },
    "id": "3o225QX6EYC5",
    "outputId": "9a68ef28-12f7-4f8a-edc2-2c8d67f8afe6"
   },
   "outputs": [
    {
     "name": "stdout",
     "output_type": "stream",
     "text": [
      "              precision    recall  f1-score   support\n",
      "\n",
      "           0       0.83      0.73      0.78     68272\n",
      "           1       0.61      0.73      0.66     38150\n",
      "\n",
      "    accuracy                           0.73    106422\n",
      "   macro avg       0.72      0.73      0.72    106422\n",
      "weighted avg       0.75      0.73      0.74    106422\n",
      "\n"
     ]
    }
   ],
   "source": [
    "print(classification_report(y_test, y_pred))"
   ]
  },
  {
   "cell_type": "code",
   "execution_count": 16,
   "metadata": {
    "colab": {
     "base_uri": "https://localhost:8080/"
    },
    "id": "k-KBREeTEZWR",
    "outputId": "3619cf98-1a95-4a15-c703-f98082c480b7"
   },
   "outputs": [
    {
     "name": "stdout",
     "output_type": "stream",
     "text": [
      "              precision    recall  f1-score   support\n",
      "\n",
      "           0       0.84      0.72      0.77     68272\n",
      "           1       0.60      0.75      0.67     38150\n",
      "\n",
      "    accuracy                           0.73    106422\n",
      "   macro avg       0.72      0.73      0.72    106422\n",
      "weighted avg       0.75      0.73      0.73    106422\n",
      "\n"
     ]
    }
   ],
   "source": [
    "print(classification_report(y_test, y_pred_roc))"
   ]
  },
  {
   "cell_type": "code",
   "execution_count": 17,
   "metadata": {
    "colab": {
     "base_uri": "https://localhost:8080/"
    },
    "id": "dhqMQX1FErQx",
    "outputId": "0ac9f7a1-ffab-4628-dbfa-5f2083860854"
   },
   "outputs": [
    {
     "name": "stdout",
     "output_type": "stream",
     "text": [
      "              precision    recall  f1-score   support\n",
      "\n",
      "           0       0.85      0.68      0.76     68272\n",
      "           1       0.58      0.79      0.67     38150\n",
      "\n",
      "    accuracy                           0.72    106422\n",
      "   macro avg       0.71      0.73      0.71    106422\n",
      "weighted avg       0.75      0.72      0.72    106422\n",
      "\n"
     ]
    }
   ],
   "source": [
    "print(classification_report(y_test, y_pred_pr))"
   ]
  },
  {
   "cell_type": "code",
   "execution_count": 18,
   "metadata": {},
   "outputs": [
    {
     "data": {
      "text/plain": [
       "['../models/model.joblib']"
      ]
     },
     "execution_count": 18,
     "metadata": {},
     "output_type": "execute_result"
    }
   ],
   "source": [
    "joblib.dump(vectorizer, '../models/vectorizer.joblib')\n",
    "joblib.dump(svd, '../models/svd.joblib')\n",
    "joblib.dump(best_model, '../models/model.joblib')"
   ]
  },
  {
   "cell_type": "code",
   "execution_count": 19,
   "metadata": {},
   "outputs": [],
   "source": [
    "import torch\n",
    "import torch.nn as nn\n",
    "import torch.nn.functional as F\n",
    "from torch.utils.data import Dataset, DataLoader\n",
    "import pandas as pd\n",
    "import numpy as np\n",
    "from gensim.models import Word2Vec\n",
    "from sklearn.model_selection import train_test_split\n",
    "from sklearn.preprocessing import LabelEncoder\n",
    "from tqdm import tqdm"
   ]
  },
  {
   "cell_type": "code",
   "execution_count": 21,
   "metadata": {},
   "outputs": [],
   "source": [
    "def preprocess_text(text):\n",
    "    text = text.lower()\n",
    "    text = re.sub(r'[^\\w\\s]', '', text)  \n",
    "    return text.split()\n",
    "\n",
    "df['tokens'] = df['text'].apply(preprocess_text)"
   ]
  },
  {
   "cell_type": "code",
   "execution_count": 22,
   "metadata": {},
   "outputs": [],
   "source": [
    "EMBEDDING_DIM = 300\n",
    "w2v = Word2Vec(sentences=df['tokens'], vector_size=EMBEDDING_DIM, window=5, min_count=2, workers=4)"
   ]
  },
  {
   "cell_type": "code",
   "execution_count": 23,
   "metadata": {},
   "outputs": [],
   "source": [
    "word2idx = {word: idx+1 for idx, word in enumerate(w2v.wv.index_to_key)}  # +1 для PAD=0\n",
    "word2idx['<PAD>'] = 0\n",
    "embedding_matrix = np.zeros((len(word2idx), EMBEDDING_DIM))\n",
    "for word, idx in word2idx.items():\n",
    "    if word in w2v.wv:\n",
    "        embedding_matrix[idx] = w2v.wv[word]"
   ]
  },
  {
   "cell_type": "code",
   "execution_count": 24,
   "metadata": {},
   "outputs": [],
   "source": [
    "MAX_LEN = 50\n",
    "\n",
    "def encode(tokens):\n",
    "    idxs = [word2idx.get(w, 0) for w in tokens]\n",
    "    if len(idxs) < MAX_LEN:\n",
    "        idxs += [0] * (MAX_LEN - len(idxs))\n",
    "    else:\n",
    "        idxs = idxs[:MAX_LEN]\n",
    "    return idxs\n",
    "\n",
    "df['input_ids'] = df['tokens'].apply(encode)\n",
    "\n",
    "X_train, X_test, y_train, y_test = train_test_split(df['input_ids'].tolist(), df['label'].tolist(), test_size=0.2)"
   ]
  },
  {
   "cell_type": "code",
   "execution_count": 25,
   "metadata": {},
   "outputs": [],
   "source": [
    "class TextDataset(Dataset):\n",
    "    def __init__(self, inputs, labels):\n",
    "        self.X = torch.tensor(inputs, dtype=torch.long)\n",
    "        self.y = torch.tensor(labels, dtype=torch.long)\n",
    "    def __len__(self):\n",
    "        return len(self.y)\n",
    "    def __getitem__(self, idx):\n",
    "        return self.X[idx], self.y[idx]\n",
    "\n",
    "train_ds = TextDataset(X_train, y_train)\n",
    "test_ds = TextDataset(X_test, y_test)\n",
    "train_loader = DataLoader(train_ds, batch_size=256, shuffle=True)\n",
    "test_loader = DataLoader(test_ds, batch_size=256)"
   ]
  },
  {
   "cell_type": "code",
   "execution_count": 26,
   "metadata": {},
   "outputs": [],
   "source": [
    "class TransformerClassifier(nn.Module):\n",
    "    def __init__(self, embedding_matrix, n_classes, n_heads=4, hidden_dim=128, n_layers=2):\n",
    "        super().__init__()\n",
    "        vocab_size, embed_dim = embedding_matrix.shape\n",
    "        self.embedding = nn.Embedding.from_pretrained(torch.tensor(embedding_matrix, dtype=torch.float32), freeze=False)\n",
    "        encoder_layer = nn.TransformerEncoderLayer(d_model=embed_dim, nhead=n_heads, dim_feedforward=hidden_dim)\n",
    "        self.transformer = nn.TransformerEncoder(encoder_layer, num_layers=n_layers)\n",
    "        self.classifier = nn.Linear(embed_dim, n_classes)\n",
    "    \n",
    "    def forward(self, input_ids):\n",
    "        embedded = self.embedding(input_ids)               \n",
    "        embedded = embedded.permute(1, 0, 2)              \n",
    "        out = self.transformer(embedded)                   \n",
    "        out = out.mean(dim=0)                              \n",
    "        return self.classifier(out)"
   ]
  },
  {
   "cell_type": "code",
   "execution_count": 27,
   "metadata": {},
   "outputs": [],
   "source": [
    "device = torch.device(\"cuda\" if torch.cuda.is_available() else \"cpu\")\n",
    "model = TransformerClassifier(embedding_matrix, n_classes=2).to(device)\n",
    "optimizer = torch.optim.Adam(model.parameters(), lr=1e-3)\n",
    "criterion = nn.CrossEntropyLoss()"
   ]
  },
  {
   "cell_type": "code",
   "execution_count": 28,
   "metadata": {},
   "outputs": [
    {
     "name": "stderr",
     "output_type": "stream",
     "text": [
      "100%|██████████████████████████████████████████████████████████████████████████████| 3326/3326 [06:22<00:00,  8.69it/s]\n"
     ]
    },
    {
     "name": "stdout",
     "output_type": "stream",
     "text": [
      "Epoch 1: Loss = 1312.5179\n"
     ]
    },
    {
     "name": "stderr",
     "output_type": "stream",
     "text": [
      "100%|██████████████████████████████████████████████████████████████████████████████| 3326/3326 [06:22<00:00,  8.70it/s]\n"
     ]
    },
    {
     "name": "stdout",
     "output_type": "stream",
     "text": [
      "Epoch 2: Loss = 1145.1112\n"
     ]
    },
    {
     "name": "stderr",
     "output_type": "stream",
     "text": [
      "100%|██████████████████████████████████████████████████████████████████████████████| 3326/3326 [06:19<00:00,  8.76it/s]\n"
     ]
    },
    {
     "name": "stdout",
     "output_type": "stream",
     "text": [
      "Epoch 3: Loss = 1038.9276\n"
     ]
    },
    {
     "name": "stderr",
     "output_type": "stream",
     "text": [
      "100%|██████████████████████████████████████████████████████████████████████████████| 3326/3326 [06:21<00:00,  8.71it/s]\n"
     ]
    },
    {
     "name": "stdout",
     "output_type": "stream",
     "text": [
      "Epoch 4: Loss = 975.5020\n"
     ]
    },
    {
     "name": "stderr",
     "output_type": "stream",
     "text": [
      "100%|██████████████████████████████████████████████████████████████████████████████| 3326/3326 [05:32<00:00,  9.99it/s]\n"
     ]
    },
    {
     "name": "stdout",
     "output_type": "stream",
     "text": [
      "Epoch 5: Loss = 931.0844\n"
     ]
    },
    {
     "name": "stderr",
     "output_type": "stream",
     "text": [
      "100%|██████████████████████████████████████████████████████████████████████████████| 3326/3326 [05:09<00:00, 10.74it/s]\n"
     ]
    },
    {
     "name": "stdout",
     "output_type": "stream",
     "text": [
      "Epoch 6: Loss = 892.8058\n"
     ]
    },
    {
     "name": "stderr",
     "output_type": "stream",
     "text": [
      "100%|██████████████████████████████████████████████████████████████████████████████| 3326/3326 [05:09<00:00, 10.76it/s]\n"
     ]
    },
    {
     "name": "stdout",
     "output_type": "stream",
     "text": [
      "Epoch 7: Loss = 857.7127\n"
     ]
    },
    {
     "name": "stderr",
     "output_type": "stream",
     "text": [
      "100%|██████████████████████████████████████████████████████████████████████████████| 3326/3326 [05:09<00:00, 10.73it/s]\n"
     ]
    },
    {
     "name": "stdout",
     "output_type": "stream",
     "text": [
      "Epoch 8: Loss = 832.4280\n"
     ]
    },
    {
     "name": "stderr",
     "output_type": "stream",
     "text": [
      "100%|██████████████████████████████████████████████████████████████████████████████| 3326/3326 [05:09<00:00, 10.76it/s]\n"
     ]
    },
    {
     "name": "stdout",
     "output_type": "stream",
     "text": [
      "Epoch 9: Loss = 804.2952\n"
     ]
    },
    {
     "name": "stderr",
     "output_type": "stream",
     "text": [
      "100%|██████████████████████████████████████████████████████████████████████████████| 3326/3326 [05:09<00:00, 10.76it/s]"
     ]
    },
    {
     "name": "stdout",
     "output_type": "stream",
     "text": [
      "Epoch 10: Loss = 784.1645\n"
     ]
    },
    {
     "name": "stderr",
     "output_type": "stream",
     "text": [
      "\n"
     ]
    }
   ],
   "source": [
    "for epoch in range(10):\n",
    "    model.train()\n",
    "    total_loss = 0\n",
    "    for X_batch, y_batch in tqdm(train_loader):\n",
    "        X_batch, y_batch = X_batch.to(device), y_batch.to(device)\n",
    "        optimizer.zero_grad()\n",
    "        output = model(X_batch)\n",
    "        loss = criterion(output, y_batch)\n",
    "        loss.backward()\n",
    "        optimizer.step()\n",
    "        total_loss += loss.item()\n",
    "    print(f\"Epoch {epoch+1}: Loss = {total_loss:.4f}\")"
   ]
  },
  {
   "cell_type": "code",
   "execution_count": 29,
   "metadata": {},
   "outputs": [
    {
     "name": "stdout",
     "output_type": "stream",
     "text": [
      "Test Accuracy: 0.8209\n"
     ]
    }
   ],
   "source": [
    "model.eval()\n",
    "correct = 0\n",
    "total = 0\n",
    "with torch.no_grad():\n",
    "    for X_batch, y_batch in test_loader:\n",
    "        X_batch, y_batch = X_batch.to(device), y_batch.to(device)\n",
    "        preds = torch.argmax(model(X_batch), dim=1)\n",
    "        correct += (preds == y_batch).sum().item()\n",
    "        total += y_batch.size(0)\n",
    "print(f\"Test Accuracy: {correct / total:.4f}\")"
   ]
  },
  {
   "cell_type": "code",
   "execution_count": 30,
   "metadata": {},
   "outputs": [
    {
     "name": "stdout",
     "output_type": "stream",
     "text": [
      "              precision    recall  f1-score   support\n",
      "\n",
      "           0       0.85      0.87      0.86    136287\n",
      "           1       0.76      0.73      0.75     76556\n",
      "\n",
      "    accuracy                           0.82    212843\n",
      "   macro avg       0.81      0.80      0.80    212843\n",
      "weighted avg       0.82      0.82      0.82    212843\n",
      "\n"
     ]
    }
   ],
   "source": [
    "model.eval()\n",
    "all_preds = []\n",
    "all_labels = []\n",
    "\n",
    "with torch.no_grad():\n",
    "    for X_batch, y_batch in test_loader:\n",
    "        X_batch, y_batch = X_batch.to(device), y_batch.to(device)\n",
    "        outputs = model(X_batch)\n",
    "        preds = torch.argmax(outputs, dim=1)\n",
    "        \n",
    "        all_preds.extend(preds.cpu().numpy())\n",
    "        all_labels.extend(y_batch.cpu().numpy())\n",
    "\n",
    "print(classification_report(all_labels, all_preds))"
   ]
  }
 ],
 "metadata": {
  "accelerator": "GPU",
  "colab": {
   "gpuType": "T4",
   "provenance": []
  },
  "kernelspec": {
   "display_name": "Python 3 (ipykernel)",
   "language": "python",
   "name": "python3"
  },
  "language_info": {
   "codemirror_mode": {
    "name": "ipython",
    "version": 3
   },
   "file_extension": ".py",
   "mimetype": "text/x-python",
   "name": "python",
   "nbconvert_exporter": "python",
   "pygments_lexer": "ipython3",
   "version": "3.12.0"
  }
 },
 "nbformat": 4,
 "nbformat_minor": 4
}
